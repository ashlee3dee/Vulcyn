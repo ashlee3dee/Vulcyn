{
 "cells": [
  {
   "cell_type": "code",
   "execution_count": 1,
   "id": "chemical-lancaster",
   "metadata": {},
   "outputs": [],
   "source": [
    "import ipywidgets as widgets\n",
    "from ipywidgets import *\n",
    "from IPython.display import display\n",
    "import pandas as pd\n",
    "import numpy as np\n",
    "import plotly.graph_objects as go\n",
    "import random\n",
    "import time"
   ]
  },
  {
   "cell_type": "code",
   "execution_count": 2,
   "id": "fuzzy-williams",
   "metadata": {},
   "outputs": [
    {
     "name": "stdout",
     "output_type": "stream",
     "text": [
      "<class 'numpy.ndarray'>\n"
     ]
    }
   ],
   "source": [
    "gridsize = [50, 100]\n",
    "resolution = 10\n",
    "gridpoints = [round(gridsize[0]/resolution)+1, round(gridsize[1]/resolution)+1]\n",
    "\n",
    "x, y = np.linspace(0, gridsize[0], gridpoints[0]), np.linspace(0, gridsize[1], gridpoints[1])\n",
    "\n",
    "print(type(x))\n",
    "z = np.zeros((gridpoints[1], gridpoints[0]))\n",
    "\n",
    "fig3 = go.FigureWidget(\n",
    "    data=[go.Surface(x=x,y=y,z=z)],\n",
    "    layout=go.Layout(\n",
    "        title='Fig3',\n",
    "        autosize=False,\n",
    "        margin=dict(l=0, r=0, b=0, t=40),\n",
    "        scene=dict(\n",
    "            xaxis = dict(nticks=gridpoints[0], range=[0,gridsize[0]],autorange='reversed'),\n",
    "            yaxis = dict(nticks=gridpoints[1], range=[0,gridsize[1]],autorange='reversed'),\n",
    "            zaxis = dict(nticks=10, range=[-10,10],),\n",
    "            aspectmode='manual',\n",
    "            aspectratio=dict(\n",
    "                x=gridsize[0]/gridsize[1],\n",
    "                y=1,\n",
    "                z=1\n",
    "            )\n",
    "        )\n",
    "    )\n",
    ")"
   ]
  },
  {
   "cell_type": "code",
   "execution_count": 3,
   "id": "partial-relationship",
   "metadata": {},
   "outputs": [
    {
     "name": "stdout",
     "output_type": "stream",
     "text": [
      "11\n",
      "11\n"
     ]
    }
   ],
   "source": [
    "pos = 10\n",
    "\n",
    "d = pos\n",
    "d+=1\n",
    "pos+=1\n",
    "print(pos)\n",
    "print(d)"
   ]
  },
  {
   "cell_type": "code",
   "execution_count": 4,
   "id": "civil-tomorrow",
   "metadata": {},
   "outputs": [
    {
     "data": {
      "application/vnd.jupyter.widget-view+json": {
       "model_id": "0337fdb2ef45475dac15a4c21f8194f4",
       "version_major": 2,
       "version_minor": 0
      },
      "text/plain": [
       "FigureWidget({\n",
       "    'data': [{'type': 'surface',\n",
       "              'uid': 'f4638f3a-0df0-4904-bc3a-08f44727af1d',\n",
       " …"
      ]
     },
     "metadata": {},
     "output_type": "display_data"
    }
   ],
   "source": [
    "display(fig3)"
   ]
  },
  {
   "cell_type": "code",
   "execution_count": 5,
   "id": "muslim-sociology",
   "metadata": {},
   "outputs": [],
   "source": [
    "zdata = fig3.data[0].z.copy()\n",
    "zdata[0,0]=10.0\n",
    "zdata[3,3]=2.0\n",
    "fig3.data[0].z = zdata\n"
   ]
  },
  {
   "cell_type": "code",
   "execution_count": 6,
   "id": "wrapped-chess",
   "metadata": {},
   "outputs": [
    {
     "name": "stdout",
     "output_type": "stream",
     "text": [
      "[[1, 1, 1, 1, 1, 1], [1, 1, 1, 1, 1, 1], [1, 1, 1, 1, 1, 1], [1, 1, 1, 1, 1, 1], [1, 1, 1, 1, 1, 1], [1, 1, 1, 1, 1, 1], [1, 1, 1, 1, 1, 1], [1, 1, 1, 1, 1, 1], [1, 1, 1, 1, 1, 1], [1, 1, 1, 1, 1, 1], [1, 1, 1, 1, 1, 1]]\n"
     ]
    }
   ],
   "source": [
    "data = [[1 for x in range(gridpoints[0])] for y in range(gridpoints[1])]\n",
    "print(data)\n",
    "fig3.data[0].z = data"
   ]
  },
  {
   "cell_type": "code",
   "execution_count": 73,
   "id": "compound-program",
   "metadata": {},
   "outputs": [
    {
     "name": "stdout",
     "output_type": "stream",
     "text": [
      "<class 'tuple'>\n",
      "<class 'list'>\n"
     ]
    }
   ],
   "source": [
    "print(type(fig3.data[0].z))\n",
    "print(type(data))"
   ]
  },
  {
   "cell_type": "code",
   "execution_count": 105,
   "id": "prerequisite-hamilton",
   "metadata": {},
   "outputs": [],
   "source": [
    "def fun(axis=None):\n",
    "    gcode = 'G28 '+axis if axis else 'G28' \n",
    "    print(gcode)"
   ]
  },
  {
   "cell_type": "code",
   "execution_count": 106,
   "id": "parental-guidance",
   "metadata": {},
   "outputs": [
    {
     "name": "stdout",
     "output_type": "stream",
     "text": [
      "G28\n"
     ]
    }
   ],
   "source": [
    "fun()"
   ]
  },
  {
   "cell_type": "code",
   "execution_count": 108,
   "id": "least-debut",
   "metadata": {},
   "outputs": [
    {
     "name": "stdout",
     "output_type": "stream",
     "text": [
      "G28 Z\n"
     ]
    }
   ],
   "source": [
    "fun('Z')"
   ]
  },
  {
   "cell_type": "code",
   "execution_count": null,
   "id": "optional-religious",
   "metadata": {},
   "outputs": [],
   "source": []
  }
 ],
 "metadata": {
  "kernelspec": {
   "display_name": "Python 3",
   "language": "python",
   "name": "python3"
  },
  "language_info": {
   "codemirror_mode": {
    "name": "ipython",
    "version": 3
   },
   "file_extension": ".py",
   "mimetype": "text/x-python",
   "name": "python",
   "nbconvert_exporter": "python",
   "pygments_lexer": "ipython3",
   "version": "3.9.2"
  }
 },
 "nbformat": 4,
 "nbformat_minor": 5
}
