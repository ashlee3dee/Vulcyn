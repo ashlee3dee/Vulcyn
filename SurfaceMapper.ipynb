{
 "cells": [
  {
   "cell_type": "code",
   "execution_count": null,
   "metadata": {},
   "outputs": [],
   "source": [
    "import time\n",
    "import serial\n",
    "import sys\n",
    "import glob\n",
    "import serial\n",
    "import numpy as np"
   ]
  },
  {
   "cell_type": "code",
   "execution_count": null,
   "metadata": {},
   "outputs": [],
   "source": [
    "#https://stackoverflow.com/questions/12090503/listing-available-com-ports-with-python\n",
    "def serial_ports():\n",
    "    \"\"\" Lists serial port names\n",
    "\n",
    "        :raises EnvironmentError:\n",
    "            On unsupported or unknown platforms\n",
    "        :returns:\n",
    "            A list of the serial ports available on the system\n",
    "    \"\"\"\n",
    "    if sys.platform.startswith('win'):\n",
    "        ports = ['COM%s' % (i + 1) for i in range(256)]\n",
    "    elif sys.platform.startswith('linux') or sys.platform.startswith('cygwin'):\n",
    "        # this excludes your current terminal \"/dev/tty\"\n",
    "        ports = glob.glob('/dev/tty[A-Za-z]*')\n",
    "    elif sys.platform.startswith('darwin'):\n",
    "        ports = glob.glob('/dev/tty.*')\n",
    "    else:\n",
    "        raise EnvironmentError('Unsupported platform')\n",
    "\n",
    "    result = []\n",
    "    for port in ports:\n",
    "        try:\n",
    "            s = serial.Serial(port)\n",
    "            s.close()\n",
    "            result.append(port)\n",
    "        except (OSError, serial.SerialException):\n",
    "            pass\n",
    "    return result"
   ]
  },
  {
   "cell_type": "code",
   "execution_count": null,
   "metadata": {},
   "outputs": [],
   "source": [
    "ports = serial_ports()\n",
    "print('Available serial ports: ')\n",
    "for p in ports:\n",
    "    print(ports.index(p), end=':')\n",
    "    print(p)"
   ]
  },
  {
   "cell_type": "code",
   "execution_count": null,
   "metadata": {},
   "outputs": [],
   "source": [
    "portindex = 1"
   ]
  },
  {
   "cell_type": "code",
   "execution_count": null,
   "metadata": {},
   "outputs": [],
   "source": [
    "try:\n",
    "    myport = serial.Serial(\n",
    "        port=ports[portindex],\n",
    "        baudrate=250000,\n",
    "        timeout=1.0,\n",
    "        parity=serial.PARITY_NONE,\n",
    "        stopbits=serial.STOPBITS_ONE,\n",
    "        bytesize=serial.EIGHTBITS\n",
    "    )\n",
    "    print('Sucessfully connected to port '+myport.port)\n",
    "except (OSError, serial.SerialException):\n",
    "    print('ERROR: ', end='')\n",
    "    if myport.is_open:\n",
    "        print('Port already open')\n",
    "    elif myport.port not in portlist:\n",
    "        print('Port '+myport.port+' not found')\n",
    "    else:\n",
    "        print('Could not connect to port')\n",
    "    pass"
   ]
  },
  {
   "cell_type": "code",
   "execution_count": null,
   "metadata": {},
   "outputs": [],
   "source": [
    "commandPrompt='Command: '\n",
    "\n",
    "exitTerminal='exit'\n",
    "getHelp='help'\n",
    "\n",
    "lineTerminator='\\r\\n'\n",
    "shortcuts = {\n",
    "    'home':'G28',\n",
    "    'deploy':'M401',\n",
    "    'stow':'M402',\n",
    "    'fanon':'M106 P0 S255',\n",
    "    'fanoff':'M107',\n",
    "    'position':'M114'\n",
    "}\n",
    "def probe_point():\n",
    "    print('probe point macro')\n",
    "    sendgcode('m105')\n",
    "def destroy():\n",
    "    return\n",
    "macros = {\n",
    "    'probe point':probe_point,\n",
    "    'destroy machine':destroy\n",
    "}"
   ]
  },
  {
   "cell_type": "code",
   "execution_count": null,
   "metadata": {},
   "outputs": [],
   "source": [
    "def parse_coordinates(printeroutput):\n",
    "    coords = printeroutput.rstrip().split()\n",
    "    del coords[3:]\n",
    "    parsedcoords = list(map(float,list(map(lambda coord: (''.join(filter(lambda char: char not in ['X', 'Y', 'Z', ':'], coord))), coords))))\n",
    "    print(parsedcoords)\n",
    "    \n",
    "    \n",
    "def sendgcode(gcode):\n",
    "    raw = gcode.upper()\n",
    "    print('SEND: ' + raw); #remove trailing whitespace and print\n",
    "    sInput = (raw + lineTerminator) #append terminator string\n",
    "    bInput = sInput.encode() #convert string to bytes\n",
    "    myport.write(bInput) #send the command"
   ]
  },
  {
   "cell_type": "code",
   "execution_count": null,
   "metadata": {},
   "outputs": [],
   "source": [
    "testEcho = \"X:280.1234 Y:0.1234 Z:55.1234 E:0.0000 Count X:22400 Y:0 Z:22000\"\n",
    "parse_coordinates(testEcho)"
   ]
  },
  {
   "cell_type": "code",
   "execution_count": null,
   "metadata": {},
   "outputs": [],
   "source": [
    "print ('Enter your commands below.\\r\\nType '+\"'\"+exitTerminal+\"'\"+' to leave the interactive prompt, type '+\"'\"+getHelp+\"'\"+' to see available shorcuts')\n",
    "cansend=True;\n",
    "while True:\n",
    "    if(cansend):\n",
    "        userinput=''\n",
    "        userinput = input(commandPrompt)\n",
    "        if userinput == exitTerminal:\n",
    "            break\n",
    "        elif userinput == getHelp:\n",
    "            print(shortcuts)\n",
    "            print(macros)\n",
    "        elif userinput in shortcuts:\n",
    "            cansend=False\n",
    "            sendgcode(shortcuts[userinput])\n",
    "        elif userinput in macros:\n",
    "            cansend=False\n",
    "            cansend=macros[userinput]()\n",
    "        else:\n",
    "            cansend=False\n",
    "            sendgcode(userinput)\n",
    "\n",
    "    time.sleep(0.1) # wait a brief moment before reading the serial buffer\n",
    "    \n",
    "    lines = list(map(lambda l: l.decode().rstrip(), myport.readlines()))\n",
    "    for line in lines:\n",
    "        print('RECV: '+ line)\n",
    "        if(line[:2] == 'ok'):\n",
    "            cansend=True\n",
    "            myport.reset_input_buffer()\n"
   ]
  },
  {
   "cell_type": "code",
   "execution_count": null,
   "metadata": {},
   "outputs": [],
   "source": []
  }
 ],
 "metadata": {
  "kernelspec": {
   "display_name": "Python 3",
   "language": "python",
   "name": "python3"
  },
  "language_info": {
   "codemirror_mode": {
    "name": "ipython",
    "version": 3
   },
   "file_extension": ".py",
   "mimetype": "text/x-python",
   "name": "python",
   "nbconvert_exporter": "python",
   "pygments_lexer": "ipython3",
   "version": "3.9.2"
  }
 },
 "nbformat": 4,
 "nbformat_minor": 4
}
