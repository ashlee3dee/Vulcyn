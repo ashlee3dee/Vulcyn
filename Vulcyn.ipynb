{
 "cells": [
  {
   "cell_type": "code",
   "execution_count": 1,
   "metadata": {},
   "outputs": [],
   "source": [
    "import threading\n",
    "import ipywidgets as widgets\n",
    "from ipywidgets import *\n",
    "from IPython.display import display\n",
    "import time\n",
    "import re\n",
    "import serial\n",
    "import sys\n",
    "import glob\n",
    "import serial\n",
    "import numpy as np"
   ]
  },
  {
   "cell_type": "code",
   "execution_count": 2,
   "metadata": {},
   "outputs": [],
   "source": [
    "#https://stackoverflow.com/questions/12090503/listing-available-com-ports-with-python\n",
    "def get_ports():\n",
    "    \"\"\" Lists serial port names\n",
    "\n",
    "        :raises EnvironmentError:\n",
    "            On unsupported or unknown platforms\n",
    "        :returns:\n",
    "            A list of the serial ports available on the system\n",
    "    \"\"\"\n",
    "    if sys.platform.startswith('win'):\n",
    "        ports = ['COM%s' % (i + 1) for i in range(256)]\n",
    "    elif sys.platform.startswith('linux') or sys.platform.startswith('cygwin'):\n",
    "        # this excludes your current terminal \"/dev/tty\"\n",
    "        ports = glob.glob('/dev/tty[A-Za-z]*')\n",
    "    elif sys.platform.startswith('darwin'):\n",
    "        ports = glob.glob('/dev/tty.*')\n",
    "    else:\n",
    "        raise EnvironmentError('Unsupported platform')\n",
    "\n",
    "    result = []\n",
    "    for port in ports:\n",
    "        try:\n",
    "            s = serial.Serial(port)\n",
    "            s.close()\n",
    "            result.append(port)\n",
    "        except (OSError, serial.SerialException):\n",
    "            pass\n",
    "    return result"
   ]
  },
  {
   "cell_type": "code",
   "execution_count": 3,
   "metadata": {},
   "outputs": [],
   "source": [
    "def list_ports():\n",
    "    print('Available serial ports: ')\n",
    "    ports=get_ports()\n",
    "    for port in ports:\n",
    "        print(ports.index(port), end=':')\n",
    "        print(port)"
   ]
  },
  {
   "cell_type": "code",
   "execution_count": 4,
   "metadata": {},
   "outputs": [],
   "source": [
    "def try_connect(portindex):\n",
    "    myport = None\n",
    "    try:\n",
    "        myport = serial.Serial(\n",
    "            port=get_ports()[portindex],\n",
    "            baudrate=250000,\n",
    "            timeout=1.0,\n",
    "            parity=serial.PARITY_NONE,\n",
    "            stopbits=serial.STOPBITS_ONE,\n",
    "            bytesize=serial.EIGHTBITS\n",
    "        )\n",
    "        print('Sucessfully connected to port '+myport.port)\n",
    "        return myport\n",
    "    except (OSError, serial.SerialException):\n",
    "        print('ERROR: ', end='')\n",
    "        if myport.is_open:\n",
    "            print('Port already open')\n",
    "        elif myport.port not in portlist:\n",
    "            print('Port '+myport.port+' not found')\n",
    "        else:\n",
    "            print('Could not connect to port')\n",
    "        pass"
   ]
  },
  {
   "cell_type": "code",
   "execution_count": 13,
   "metadata": {},
   "outputs": [],
   "source": [
    "def isCoordinateList(printeroutput):\n",
    "    if(len(re.findall(xyzregexpattern, printeroutput))==3):\n",
    "        return True\n",
    "    return False\n",
    "xyzregexpattern = \"(?:[^E][:])(\\d{1,3}[.]\\d{4})\"\n",
    "def parse_coordinates(printeroutput):\n",
    "    return list(map(float, re.findall(xyzregexpattern,printeroutput)))"
   ]
  },
  {
   "cell_type": "code",
   "execution_count": 31,
   "metadata": {},
   "outputs": [],
   "source": [
    "def handle_input(sender):\n",
    "    sender.disabled=True\n",
    "    userinput=sender.value\n",
    "    if userinput in macros:\n",
    "        with terminalout:\n",
    "            print(\"MACRO: \",userinput)\n",
    "        macros[userinput]()\n",
    "\n",
    "    else:\n",
    "        send_gcode(userinput)\n",
    "    wait_for_ok()\n",
    "    #myport.reset_input_buffer()\n",
    "    sender.disabled=False\n",
    "    sender.value=''\n",
    "\n",
    "def read_serial():\n",
    "    return list(map(lambda line: line.decode().rstrip(), myport.readlines()))\n",
    "\n",
    "def contains_ok(lines):\n",
    "    if 'ok' in lines:\n",
    "        return True\n",
    "    return False\n",
    "        \n",
    "\n",
    "def send_gcode(gcode, wait=True):\n",
    "    raw = gcode.upper()\n",
    "    with terminalout:\n",
    "        print('SEND: ' + raw); #remove trailing whitespace and print\n",
    "    sInput = (raw + lineTerminator) #append terminator string\n",
    "    bInput = sInput.encode() #convert string to bytes\n",
    "    myport.write(bInput) #send the command\n",
    "\n",
    "\n",
    "def wait_for_ok(timeout=10000):\n",
    "    waitend = current_milli_time()+timeout\n",
    "    while(current_milli_time()<waitend):\n",
    "        lines = read_serial()\n",
    "        for line in lines:\n",
    "            with terminalout:\n",
    "                print('RECV: '+ line)\n",
    "        if(not contains_ok(lines)):\n",
    "            time.sleep(0.01)\n",
    "        else:\n",
    "            break\n",
    "    if(current_milli_time()>=waitend):\n",
    "        with terminalout:\n",
    "            print(\"OK not received, printer may still be busy\")\n",
    "\n",
    "def current_milli_time():\n",
    "    return round(time.time() * 1000)"
   ]
  },
  {
   "cell_type": "code",
   "execution_count": 28,
   "metadata": {},
   "outputs": [],
   "source": [
    "## String constants ##\n",
    "commandPrompt='Command: '\n",
    "lineTerminator='\\r\\n'\n",
    "\n",
    "## MACRO DEFINITIONS ##\n",
    "def show_help():\n",
    "    \"\"\"Shows this help\"\"\"\n",
    "    with terminalout:\n",
    "        print('Available macros:')\n",
    "        for macro in macros.items():\n",
    "            print(\"'\"+macro[0]+\"'\", end=': ')\n",
    "            print(macro[1].__doc__)\n",
    "def probe_point(self):\n",
    "    \"\"\"Run probing routine\"\"\"\n",
    "    print('probe point macro')\n",
    "def home():\n",
    "    \"\"\"Auto Home XYZ\"\"\"\n",
    "    send_gcode('G28', False)\n",
    "    return\n",
    "def deploy():\n",
    "    \"\"\"Deploy the probe\"\"\"\n",
    "    send_gcode('M401')\n",
    "    return\n",
    "def stow():\n",
    "    \"\"\"Stow the probe\"\"\"\n",
    "    send_gcode('M402')\n",
    "    return\n",
    "def fan_on():\n",
    "    \"\"\"Set case fan speed to MAX\"\"\"\n",
    "    send_gcode('M106 P0 S255')\n",
    "    return\n",
    "def fan_off():\n",
    "    \"\"\"Disable all fans\"\"\"\n",
    "    send_gcode('M107')\n",
    "    return\n",
    "def get_pos():\n",
    "    \"\"\"Report the current tool position\"\"\"\n",
    "    send_gcode('M114')\n",
    "    return\n",
    "\n",
    "## MACRO DICTIONARY\n",
    "macros = {\n",
    "    'help':show_help,\n",
    "    'probe point':probe_point,\n",
    "    'home':home,\n",
    "    'deploy':deploy,\n",
    "    'stow':stow,\n",
    "    'fanon':fan_on,\n",
    "    'fanoff':fan_off,\n",
    "    'getpos':get_pos\n",
    "}\n"
   ]
  },
  {
   "cell_type": "code",
   "execution_count": 29,
   "metadata": {},
   "outputs": [],
   "source": [
    "terminalout = widgets.Output(\n",
    "    layout={\n",
    "            'width':'auto%',\n",
    "            'height':'500px',\n",
    "            'border': '1px solid white',\n",
    "            'overflow':'scroll',\n",
    "           }\n",
    ")\n",
    "userin = widgets.Text(\n",
    "    layout={\n",
    "            'width':'auto%',\n",
    "            'border': '1px solid white'\n",
    "           },\n",
    "    value='',\n",
    "    placeholder='Type help for available macros',\n",
    "    description=commandPrompt,\n",
    "    disabled=False\n",
    ")\n",
    "userin.on_submit(handle_input)\n",
    "box_layout = {'display':'flex',\n",
    "                    'flex_flow':'column',\n",
    "                    'align_items':'stretch',\n",
    "                    'border':'solid',\n",
    "                    'width':'auto%'}\n",
    "termbox = VBox([terminalout, userin])"
   ]
  },
  {
   "cell_type": "code",
   "execution_count": 9,
   "metadata": {},
   "outputs": [
    {
     "name": "stdout",
     "output_type": "stream",
     "text": [
      "Available serial ports: \n",
      "0:COM1\n",
      "1:COM5\n",
      "2:COM12\n",
      "3:COM14\n"
     ]
    }
   ],
   "source": [
    "list_ports()"
   ]
  },
  {
   "cell_type": "code",
   "execution_count": 10,
   "metadata": {},
   "outputs": [
    {
     "name": "stdout",
     "output_type": "stream",
     "text": [
      "Sucessfully connected to port COM5\n"
     ]
    }
   ],
   "source": [
    "myport=try_connect(1)"
   ]
  },
  {
   "cell_type": "code",
   "execution_count": 32,
   "metadata": {
    "tags": []
   },
   "outputs": [
    {
     "data": {
      "application/vnd.jupyter.widget-view+json": {
       "model_id": "867e3fe693cb49b6800c6c9f1501379c",
       "version_major": 2,
       "version_minor": 0
      },
      "text/plain": [
       "VBox(children=(Output(layout=Layout(border='1px solid white', height='500px', overflow='scroll', width='auto%'…"
      ]
     },
     "metadata": {},
     "output_type": "display_data"
    },
    {
     "name": "stdout",
     "output_type": "stream",
     "text": [
      "Enter your commands in the box above. Press <ENTER> to send.\n",
      "Type \"help\" to see available shorcuts\n",
      "\n",
      "NOTE:\tAfter a command is sent, the input field will be disabled\n",
      "\tuntil an OK is received or the timeout period has elapsed\n"
     ]
    }
   ],
   "source": [
    "myport.reset_input_buffer()\n",
    "terminalout.clear_output()\n",
    "display(termbox)\n",
    "print('Enter your commands in the box above. Press <ENTER> to send.')\n",
    "print('Type \"help\" to see available shorcuts')\n",
    "print('\\nNOTE:\\tAfter a command is sent, the input field will be disabled\\n\\tuntil an OK is received or the timeout period has elapsed')"
   ]
  },
  {
   "cell_type": "code",
   "execution_count": null,
   "metadata": {},
   "outputs": [],
   "source": []
  }
 ],
 "metadata": {
  "kernelspec": {
   "display_name": "Python 3",
   "language": "python",
   "name": "python3"
  },
  "language_info": {
   "codemirror_mode": {
    "name": "ipython",
    "version": 3
   },
   "file_extension": ".py",
   "mimetype": "text/x-python",
   "name": "python",
   "nbconvert_exporter": "python",
   "pygments_lexer": "ipython3",
   "version": "3.9.2"
  }
 },
 "nbformat": 4,
 "nbformat_minor": 4
}
