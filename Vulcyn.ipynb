{
 "cells": [
  {
   "cell_type": "code",
   "execution_count": 1,
   "metadata": {},
   "outputs": [],
   "source": [
    "%gui asyncio\n",
    "import asyncio\n",
    "import threading\n",
    "import ipywidgets as widgets\n",
    "from ipywidgets import *\n",
    "from IPython.display import display\n",
    "import time\n",
    "import re\n",
    "import serial\n",
    "import sys\n",
    "import glob\n",
    "import serial\n",
    "import numpy as np"
   ]
  },
  {
   "cell_type": "code",
   "execution_count": 2,
   "metadata": {},
   "outputs": [],
   "source": [
    "#https://stackoverflow.com/questions/12090503/listing-available-com-ports-with-python\n",
    "def get_ports():\n",
    "    \"\"\" Lists serial port names\n",
    "\n",
    "        :raises EnvironmentError:\n",
    "            On unsupported or unknown platforms\n",
    "        :returns:\n",
    "            A list of the serial ports available on the system\n",
    "    \"\"\"\n",
    "    if sys.platform.startswith('win'):\n",
    "        ports = ['COM%s' % (i + 1) for i in range(256)]\n",
    "    elif sys.platform.startswith('linux') or sys.platform.startswith('cygwin'):\n",
    "        # this excludes your current terminal \"/dev/tty\"\n",
    "        ports = glob.glob('/dev/tty[A-Za-z]*')\n",
    "    elif sys.platform.startswith('darwin'):\n",
    "        ports = glob.glob('/dev/tty.*')\n",
    "    else:\n",
    "        raise EnvironmentError('Unsupported platform')\n",
    "\n",
    "    result = []\n",
    "    for port in ports:\n",
    "        try:\n",
    "            s = serial.Serial(port)\n",
    "            s.close()\n",
    "            result.append(port)\n",
    "        except (OSError, serial.SerialException):\n",
    "            pass\n",
    "    return result"
   ]
  },
  {
   "cell_type": "code",
   "execution_count": 3,
   "metadata": {},
   "outputs": [],
   "source": [
    "def list_ports():\n",
    "    print('Available serial ports: ')\n",
    "    ports=get_ports()\n",
    "    for port in ports:\n",
    "        print(ports.index(port), end=':')\n",
    "        print(port)\n",
    "def try_connect(portindex):\n",
    "    myport = None\n",
    "    try:\n",
    "        myport = serial.Serial(\n",
    "            port=get_ports()[portindex],\n",
    "            baudrate=250000,\n",
    "            timeout=0,\n",
    "            parity=serial.PARITY_NONE,\n",
    "            stopbits=serial.STOPBITS_ONE,\n",
    "            bytesize=serial.EIGHTBITS\n",
    "        )\n",
    "        print('Sucessfully connected to port '+myport.port)\n",
    "        return myport\n",
    "    except (OSError, serial.SerialException):\n",
    "        print('ERROR: ', end='')\n",
    "        if myport.is_open:\n",
    "            print('Port already open')\n",
    "        elif myport.port not in portlist:\n",
    "            print('Port '+myport.port+' not found')\n",
    "        else:\n",
    "            print('Could not connect to port')\n",
    "        pass"
   ]
  },
  {
   "cell_type": "code",
   "execution_count": 4,
   "metadata": {},
   "outputs": [],
   "source": [
    "def read_serial():\n",
    "    return myport.readline().decode().rstrip()\n",
    "\n",
    "def contains_ok(lines):\n",
    "    if 'ok' in lines:\n",
    "        return True\n",
    "    return False\n",
    "\n",
    "def handle_input(sender):\n",
    "    userinput=sender.value\n",
    "    sender.value=''\n",
    "    if userinput in macros:\n",
    "        terminalout.append_display_data(\"MACRO: \"+userinput)\n",
    "        macros[userinput]()\n",
    "    else:\n",
    "        send_gcode(userinput)\n",
    "def send_gcode(gcode, wait=True):\n",
    "    if wait:\n",
    "        userin.disabled=True\n",
    "        userin.placeholder='Waiting for OK'\n",
    "    raw = gcode.upper()\n",
    "    machineout.append_display_data('SEND: '+raw)\n",
    "    sInput = (raw + lineTerminator) #append terminator string\n",
    "    bInput = sInput.encode() #convert string to bytes\n",
    "    myport.write(bInput) #send the command\n",
    "\n",
    "def current_milli_time():\n",
    "    return round(time.time() * 1000)\n",
    "\n",
    "def is_m114_feedback(printeroutput):\n",
    "    if(len(re.findall(\"(?:[^E][:])(\\d{1,3}[.]\\d{4})\", printeroutput))==3):\n",
    "        return True\n",
    "    return False\n",
    "\n",
    "def parse_coords(printeroutput):\n",
    "    return list(map(float, re.findall(\"(?:[^E][:])(\\d{1,3}[.]\\d{4})\",printeroutput)))"
   ]
  },
  {
   "cell_type": "code",
   "execution_count": 5,
   "metadata": {
    "tags": []
   },
   "outputs": [],
   "source": [
    "## String constants ##\n",
    "commandPrompt='>>: '\n",
    "lineTerminator='\\r\\n'\n",
    "\n",
    "## MACRO DEFINITIONS ##\n",
    "def show_help():\n",
    "    \"\"\"Shows this help\"\"\"\n",
    "    terminalout.append_display_data('Available macros:')\n",
    "    for macro in macros.items():\n",
    "        terminalout.append_display_data(macro[0]+':'+macro[1].__doc__)\n",
    "def probe_point():\n",
    "    \"\"\"returns a tuple containing the probed coordinate\"\"\"\n",
    "    \n",
    "def home():\n",
    "    \"\"\"Auto Home XYZ\"\"\"\n",
    "    send_gcode('G28')\n",
    "    return\n",
    "def deploy():\n",
    "    \"\"\"Deploy the probe\"\"\"\n",
    "    send_gcode('M401')\n",
    "    return\n",
    "def stow():\n",
    "    \"\"\"Stow the probe\"\"\"\n",
    "    send_gcode('M402')\n",
    "    return\n",
    "def fan_on():\n",
    "    \"\"\"Set case fan speed to MAX\"\"\"\n",
    "    send_gcode('M106 P0 S255')\n",
    "    return\n",
    "def fan_off():\n",
    "    \"\"\"Disable all fans\"\"\"\n",
    "    send_gcode('M107')\n",
    "    return\n",
    "def get_pos():\n",
    "    \"\"\"Report the current tool position\"\"\"\n",
    "    send_gcode('M114')\n",
    "    return\n",
    "def disable_motors():\n",
    "    \"\"\"Disables all the motors\"\"\"\n",
    "    send_gcode('M18')\n",
    "    return\n",
    "\n",
    "## MACRO DICTIONARY\n",
    "macros = {\n",
    "    'help':show_help,\n",
    "    'probe':probe_point,\n",
    "    'home':home,\n",
    "    'deploy':deploy,\n",
    "    'stow':stow,\n",
    "    'fanon':fan_on,\n",
    "    'fanoff':fan_off,\n",
    "    'pos':get_pos,\n",
    "    'moff':disable_motors\n",
    "}\n"
   ]
  },
  {
   "cell_type": "code",
   "execution_count": 6,
   "metadata": {},
   "outputs": [],
   "source": [
    "machineout = widgets.Output(\n",
    "    layout={\n",
    "            'width':'50%',\n",
    "            'height':'500px',\n",
    "            'border': '1px solid white',\n",
    "            'overflow':'scroll',\n",
    "           }\n",
    ")\n",
    "terminalout = widgets.Output(\n",
    "    layout={\n",
    "            'width':'50%',\n",
    "            'height':'500px',\n",
    "            'border': '1px solid white',\n",
    "            'overflow':'scroll',\n",
    "           }\n",
    ")\n",
    "userin = widgets.Text(\n",
    "    layout={\n",
    "            'width':'100%',\n",
    "            'border': '1px solid white'\n",
    "           },\n",
    "    value='',\n",
    "    placeholder='Type a command here',\n",
    "    disabled=False\n",
    ")\n",
    "userin.on_submit(handle_input)\n",
    "termgroup = HBox([machineout, terminalout])\n",
    "controlgroup = VBox([termgroup, userin])"
   ]
  },
  {
   "cell_type": "code",
   "execution_count": 7,
   "metadata": {},
   "outputs": [],
   "source": [
    "#list_ports()"
   ]
  },
  {
   "cell_type": "code",
   "execution_count": 8,
   "metadata": {},
   "outputs": [
    {
     "name": "stdout",
     "output_type": "stream",
     "text": [
      "Sucessfully connected to port COM5\n"
     ]
    }
   ],
   "source": [
    "myport=try_connect(1)"
   ]
  },
  {
   "cell_type": "code",
   "execution_count": 11,
   "metadata": {},
   "outputs": [],
   "source": [
    "def _update():\n",
    "    while True:\n",
    "        serialdata = read_serial()\n",
    "        if serialdata != '':\n",
    "            if is_m114_feedback(serialdata):\n",
    "                currentposition = parse_coords(serialdata)\n",
    "                terminalout.append_display_data(currentposition)\n",
    "            machineout.append_display_data(serialdata)\n",
    "        if contains_ok(serialdata):\n",
    "            userin.placeholder='Type a command here'\n",
    "            userin.disabled=False\n",
    "        time.sleep(0.01)"
   ]
  },
  {
   "cell_type": "code",
   "execution_count": 10,
   "metadata": {
    "tags": []
   },
   "outputs": [
    {
     "data": {
      "application/vnd.jupyter.widget-view+json": {
       "model_id": "c34994459ff54c1ebd06585194e05971",
       "version_major": 2,
       "version_minor": 0
      },
      "text/plain": [
       "VBox(children=(HBox(children=(Output(layout=Layout(border='1px solid white', height='500px', overflow='scroll'…"
      ]
     },
     "metadata": {},
     "output_type": "display_data"
    },
    {
     "name": "stdout",
     "output_type": "stream",
     "text": [
      "Enter your commands in the box above. Press <ENTER> to send.\n",
      "Type \"help\" to see available shorcuts\n"
     ]
    }
   ],
   "source": [
    "currentposition=[0,0,0]\n",
    "myport.reset_input_buffer()\n",
    "machineout.clear_output()\n",
    "terminalout.clear_output()\n",
    "t_update = threading.Thread(target=_update, args=())\n",
    "display(controlgroup)\n",
    "t_update.start()\n",
    "print('Enter your commands in the box above. Press <ENTER> to send.')\n",
    "print('Type \"help\" to see available shorcuts')\n",
    "#x.join()"
   ]
  }
 ],
 "metadata": {
  "kernelspec": {
   "display_name": "Python 3",
   "language": "python",
   "name": "python3"
  },
  "language_info": {
   "codemirror_mode": {
    "name": "ipython",
    "version": 3
   },
   "file_extension": ".py",
   "mimetype": "text/x-python",
   "name": "python",
   "nbconvert_exporter": "python",
   "pygments_lexer": "ipython3",
   "version": "3.9.2"
  }
 },
 "nbformat": 4,
 "nbformat_minor": 4
}
