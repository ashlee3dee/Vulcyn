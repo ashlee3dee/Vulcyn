{
 "cells": [
  {
   "cell_type": "code",
   "execution_count": 1,
   "metadata": {},
   "outputs": [],
   "source": [
    "import time\n",
    "import serial\n",
    "import sys\n",
    "import glob\n",
    "import serial\n",
    "import numpy as np"
   ]
  },
  {
   "cell_type": "code",
   "execution_count": 2,
   "metadata": {},
   "outputs": [],
   "source": [
    "#https://stackoverflow.com/questions/12090503/listing-available-com-ports-with-python\n",
    "def serial_ports():\n",
    "    \"\"\" Lists serial port names\n",
    "\n",
    "        :raises EnvironmentError:\n",
    "            On unsupported or unknown platforms\n",
    "        :returns:\n",
    "            A list of the serial ports available on the system\n",
    "    \"\"\"\n",
    "    if sys.platform.startswith('win'):\n",
    "        ports = ['COM%s' % (i + 1) for i in range(256)]\n",
    "    elif sys.platform.startswith('linux') or sys.platform.startswith('cygwin'):\n",
    "        # this excludes your current terminal \"/dev/tty\"\n",
    "        ports = glob.glob('/dev/tty[A-Za-z]*')\n",
    "    elif sys.platform.startswith('darwin'):\n",
    "        ports = glob.glob('/dev/tty.*')\n",
    "    else:\n",
    "        raise EnvironmentError('Unsupported platform')\n",
    "\n",
    "    result = []\n",
    "    for port in ports:\n",
    "        try:\n",
    "            s = serial.Serial(port)\n",
    "            s.close()\n",
    "            result.append(port)\n",
    "        except (OSError, serial.SerialException):\n",
    "            pass\n",
    "    return result"
   ]
  },
  {
   "cell_type": "code",
   "execution_count": 3,
   "metadata": {},
   "outputs": [
    {
     "name": "stdout",
     "output_type": "stream",
     "text": [
      "Available serial ports: \n",
      "0:COM1\n",
      "1:COM5\n",
      "2:COM12\n"
     ]
    }
   ],
   "source": [
    "ports = serial_ports()\n",
    "print('Available serial ports: ')\n",
    "for p in ports:\n",
    "    print(ports.index(p), end=':')\n",
    "    print(p)"
   ]
  },
  {
   "cell_type": "code",
   "execution_count": 4,
   "metadata": {},
   "outputs": [],
   "source": [
    "portindex = 1"
   ]
  },
  {
   "cell_type": "code",
   "execution_count": 5,
   "metadata": {},
   "outputs": [
    {
     "name": "stdout",
     "output_type": "stream",
     "text": [
      "Sucessfully connected to port COM5\n"
     ]
    }
   ],
   "source": [
    "try:\n",
    "    myport = serial.Serial(\n",
    "        port=ports[portindex],\n",
    "        baudrate=250000,\n",
    "        timeout=1.0,\n",
    "        parity=serial.PARITY_NONE,\n",
    "        stopbits=serial.STOPBITS_ONE,\n",
    "        bytesize=serial.EIGHTBITS\n",
    "    )\n",
    "    print('Sucessfully connected to port '+myport.port)\n",
    "except (OSError, serial.SerialException):\n",
    "    print('ERROR: ', end='')\n",
    "    if myport.is_open:\n",
    "        print('Port already open')\n",
    "    elif myport.port not in portlist:\n",
    "        print('Port '+myport.port+' not found')\n",
    "    else:\n",
    "        print('Could not connect to port')\n",
    "    pass"
   ]
  },
  {
   "cell_type": "code",
   "execution_count": 6,
   "metadata": {},
   "outputs": [],
   "source": [
    "commandPrompt='Command: '\n",
    "\n",
    "exitTerminal='exit'\n",
    "getHelp='help'\n",
    "\n",
    "lineTerminator='\\r\\n'\n",
    "shortcuts = {\n",
    "    'home':'G28',\n",
    "    'deploy':'M401',\n",
    "    'stow':'M402',\n",
    "    'fanon':'M106 P0 S255',\n",
    "    'fanoff':'M107',\n",
    "    'position':'M114'\n",
    "}\n",
    "def probe_point():\n",
    "    print('probe point macro')\n",
    "    sendgcode('m105')\n",
    "def destroy():\n",
    "    return\n",
    "macros = {\n",
    "    'probe point':probe_point,\n",
    "    'destroy machine':destroy\n",
    "}"
   ]
  },
  {
   "cell_type": "code",
   "execution_count": 7,
   "metadata": {},
   "outputs": [],
   "source": [
    "def parse_coordinates(printeroutput):\n",
    "    coords = printeroutput.rstrip().split()\n",
    "    del coords[3:]\n",
    "    parsedcoords = list(map(float,list(map(lambda coord: (''.join(filter(lambda char: char not in ['X', 'Y', 'Z', ':'], coord))), coords))))\n",
    "    print(parsedcoords)\n",
    "    \n",
    "    \n",
    "def sendgcode(gcode):\n",
    "    raw = gcode.upper()\n",
    "    print('SEND: ' + raw); #remove trailing whitespace and print\n",
    "    sInput = (raw + lineTerminator) #append terminator string\n",
    "    bInput = sInput.encode() #convert string to bytes\n",
    "    myport.write(bInput) #send the command"
   ]
  },
  {
   "cell_type": "code",
   "execution_count": 8,
   "metadata": {},
   "outputs": [
    {
     "name": "stdout",
     "output_type": "stream",
     "text": [
      "[280.1234, 0.1234, 55.1234]\n"
     ]
    }
   ],
   "source": [
    "testEcho = \"X:280.1234 Y:0.1234 Z:55.1234 E:0.0000 Count X:22400 Y:0 Z:22000\"\n",
    "parse_coordinates(testEcho)"
   ]
  },
  {
   "cell_type": "code",
   "execution_count": 9,
   "metadata": {},
   "outputs": [
    {
     "name": "stdout",
     "output_type": "stream",
     "text": [
      "Enter your commands below.\n",
      "Type 'exit' to leave the interactive prompt, type 'help' to see available shorcuts\n"
     ]
    },
    {
     "name": "stdin",
     "output_type": "stream",
     "text": [
      "Command:  help\n"
     ]
    },
    {
     "name": "stdout",
     "output_type": "stream",
     "text": [
      "{'home': 'G28', 'deploy': 'M401', 'stow': 'M402', 'fanon': 'M106 P0 S255', 'fanoff': 'M107', 'position': 'M114'}\n",
      "{'probe point': <function probe_point at 0x000002427DF20700>, 'destroy machine': <function destroy at 0x000002427DF20790>}\n"
     ]
    },
    {
     "name": "stdin",
     "output_type": "stream",
     "text": [
      "Command:  home\n"
     ]
    },
    {
     "name": "stdout",
     "output_type": "stream",
     "text": [
      "SEND: G28\n",
      "RECV: echo:busy: processing\n",
      "RECV: echo:busy: processing\n",
      "RECV: echo:busy: processing\n",
      "RECV: echo:busy: processing\n",
      "RECV: echo:busy: processing\n",
      "RECV: echo:busy: processing\n",
      "RECV: X:280.0000 Y:0.0000 Z:55.0000 E:0.0000 Count X:22400 Y:0 Z:22000\n",
      "RECV: ok\n"
     ]
    },
    {
     "name": "stdin",
     "output_type": "stream",
     "text": [
      "Command:  g00 x150 y150\n"
     ]
    },
    {
     "name": "stdout",
     "output_type": "stream",
     "text": [
      "SEND: G00 X150 Y150\n",
      "RECV: ok\n"
     ]
    },
    {
     "name": "stdin",
     "output_type": "stream",
     "text": [
      "Command:  deploy\n"
     ]
    },
    {
     "name": "stdout",
     "output_type": "stream",
     "text": [
      "SEND: M401\n",
      "RECV: X:150.0000 Y:150.0000 Z:55.0000 E:0.0000 Count X:12000 Y:12000 Z:22000\n",
      "RECV: ok\n"
     ]
    },
    {
     "name": "stdin",
     "output_type": "stream",
     "text": [
      "Command:  stow\n"
     ]
    },
    {
     "name": "stdout",
     "output_type": "stream",
     "text": [
      "SEND: M402\n",
      "RECV: X:150.0000 Y:150.0000 Z:55.0000 E:0.0000 Count X:12000 Y:12000 Z:22000\n",
      "RECV: ok\n"
     ]
    },
    {
     "name": "stdin",
     "output_type": "stream",
     "text": [
      "Command:  fanoff\n"
     ]
    },
    {
     "name": "stdout",
     "output_type": "stream",
     "text": [
      "SEND: M107\n",
      "RECV: ok\n"
     ]
    },
    {
     "name": "stdin",
     "output_type": "stream",
     "text": [
      "Command:  fanon\n"
     ]
    },
    {
     "name": "stdout",
     "output_type": "stream",
     "text": [
      "SEND: M106 P0 S255\n",
      "RECV: ok\n"
     ]
    },
    {
     "name": "stdin",
     "output_type": "stream",
     "text": [
      "Command:  probe point\n"
     ]
    },
    {
     "name": "stdout",
     "output_type": "stream",
     "text": [
      "probe point macro\n",
      "SEND: M105\n",
      "RECV: ok T:0\n"
     ]
    },
    {
     "name": "stdin",
     "output_type": "stream",
     "text": [
      "Command:  exit\n"
     ]
    }
   ],
   "source": [
    "print ('Enter your commands below.\\r\\nType '+\"'\"+exitTerminal+\"'\"+' to leave the interactive prompt, type '+\"'\"+getHelp+\"'\"+' to see available shorcuts')\n",
    "cansend=True;\n",
    "while True:\n",
    "    if(cansend):\n",
    "        userinput=''\n",
    "        userinput = input(commandPrompt)\n",
    "        if userinput == exitTerminal:\n",
    "            break\n",
    "        elif userinput == getHelp:\n",
    "            print(shortcuts)\n",
    "            print(macros)\n",
    "        elif userinput in shortcuts:\n",
    "            cansend=False\n",
    "            sendgcode(shortcuts[userinput])\n",
    "        elif userinput in macros:\n",
    "            cansend=False\n",
    "            cansend=macros[userinput]()\n",
    "        else:\n",
    "            cansend=False\n",
    "            sendgcode(userinput)\n",
    "\n",
    "    time.sleep(0.1) # wait a brief moment before reading the serial buffer\n",
    "    \n",
    "    lines = list(map(lambda l: l.decode().rstrip(), myport.readlines()))\n",
    "    for line in lines:\n",
    "        print('RECV: '+ line)\n",
    "        if(line[:2] == 'ok'):\n",
    "            cansend=True\n",
    "            myport.reset_input_buffer()\n"
   ]
  },
  {
   "cell_type": "code",
   "execution_count": null,
   "metadata": {},
   "outputs": [],
   "source": []
  }
 ],
 "metadata": {
  "kernelspec": {
   "display_name": "Python 3",
   "language": "python",
   "name": "python3"
  },
  "language_info": {
   "codemirror_mode": {
    "name": "ipython",
    "version": 3
   },
   "file_extension": ".py",
   "mimetype": "text/x-python",
   "name": "python",
   "nbconvert_exporter": "python",
   "pygments_lexer": "ipython3",
   "version": "3.9.2"
  }
 },
 "nbformat": 4,
 "nbformat_minor": 4
}
