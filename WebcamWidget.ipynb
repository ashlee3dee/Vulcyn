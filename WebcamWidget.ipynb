{
 "cells": [
  {
   "cell_type": "code",
   "execution_count": null,
   "id": "viral-renewal",
   "metadata": {},
   "outputs": [],
   "source": [
    "import threading\n",
    "import io\n",
    "import time\n",
    "import cv2\n",
    "import numpy as np\n",
    "import PIL\n",
    "from PIL import Image\n",
    "import ipywidgets as widgets\n",
    "from ipywidgets import *\n",
    "\n",
    "class CameraStream:\n",
    "    captureObject=None\n",
    "    \n",
    "    def __init__(self):\n",
    "        self.captureObject = cv2.VideoCapture(0)\n",
    "    \n",
    "    def get_frame(self):\n",
    "        ret, img = self.captureObject.read()\n",
    "        rgb = cv2.cvtColor(img, cv2.COLOR_BGR2RGB)\n",
    "        return self.image_to_byte_array(PIL.Image.fromarray(rgb))\n",
    "    #https://stackoverflow.com/questions/2659312/how-do-i-convert-a-numpy-array-to-and-display-an-image\n",
    "    def image_to_byte_array(self, image:Image):\n",
    "      imgByteArr = io.BytesIO()\n",
    "      image.save(imgByteArr, format='PNG')\n",
    "      imgByteArr = imgByteArr.getvalue()\n",
    "      return imgByteArr"
   ]
  },
  {
   "cell_type": "code",
   "execution_count": null,
   "id": "legislative-musical",
   "metadata": {},
   "outputs": [],
   "source": [
    "stream = CameraStream()\n",
    "webcam = widgets.Image(value=stream.get_frame(), format='PNG')\n",
    "\n",
    "def _refreshstream(frameRate):\n",
    "    while True:\n",
    "        time.sleep(1.0/frameRate)\n",
    "        webcam.value = stream.get_frame()\n",
    "\n",
    "thread = threading.Thread(target=_refreshstream, args=(1,))\n",
    "display(webcam)\n",
    "thread.start()"
   ]
  },
  {
   "cell_type": "code",
   "execution_count": null,
   "id": "instrumental-workshop",
   "metadata": {},
   "outputs": [],
   "source": []
  }
 ],
 "metadata": {
  "kernelspec": {
   "display_name": "Python 3",
   "language": "python",
   "name": "python3"
  },
  "language_info": {
   "codemirror_mode": {
    "name": "ipython",
    "version": 3
   },
   "file_extension": ".py",
   "mimetype": "text/x-python",
   "name": "python",
   "nbconvert_exporter": "python",
   "pygments_lexer": "ipython3",
   "version": "3.9.2"
  }
 },
 "nbformat": 4,
 "nbformat_minor": 5
}
