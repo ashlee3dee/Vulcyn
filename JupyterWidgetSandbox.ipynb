{
 "cells": [
  {
   "cell_type": "code",
   "execution_count": 37,
   "id": "ultimate-wichita",
   "metadata": {},
   "outputs": [
    {
     "data": {
      "application/vnd.jupyter.widget-view+json": {
       "model_id": "393ba41f2dfb4585b27a2cf7e4f29ae9",
       "version_major": 2,
       "version_minor": 0
      },
      "text/plain": [
       "FloatLogSlider(value=10.0, description='Jog Step', max=2.0, min=-2.0, readout_format='.2f', step=1.0)"
      ]
     },
     "metadata": {},
     "output_type": "display_data"
    }
   ],
   "source": [
    "import ipywidgets as widgets\n",
    "from ipywidgets import *\n",
    "from IPython.display import display\n",
    "\n",
    "slider = widgets.FloatLogSlider(\n",
    "    value=10,\n",
    "    base=10,\n",
    "    min=-2, # max exponent of base\n",
    "    max=2, # min exponent of base\n",
    "    step=1, # exponent step\n",
    "    orientation='horizontal',\n",
    "    description='Jog Step',\n",
    "    readout_format='.2f'\n",
    "\n",
    ")\n",
    "display(slider)"
   ]
  },
  {
   "cell_type": "code",
   "execution_count": 38,
   "id": "colonial-password",
   "metadata": {},
   "outputs": [
    {
     "name": "stdout",
     "output_type": "stream",
     "text": [
      "0.1\n"
     ]
    }
   ],
   "source": [
    "print (slider.value)"
   ]
  },
  {
   "cell_type": "code",
   "execution_count": null,
   "id": "congressional-cocktail",
   "metadata": {},
   "outputs": [],
   "source": []
  }
 ],
 "metadata": {
  "kernelspec": {
   "display_name": "Python 3",
   "language": "python",
   "name": "python3"
  },
  "language_info": {
   "codemirror_mode": {
    "name": "ipython",
    "version": 3
   },
   "file_extension": ".py",
   "mimetype": "text/x-python",
   "name": "python",
   "nbconvert_exporter": "python",
   "pygments_lexer": "ipython3",
   "version": "3.9.2"
  }
 },
 "nbformat": 4,
 "nbformat_minor": 5
}
